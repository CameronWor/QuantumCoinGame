{
 "cells": [
  {
   "cell_type": "code",
   "execution_count": null,
   "metadata": {},
   "outputs": [],
   "source": [
    "from qiskit_ibm_runtime import QiskitRuntimeService\n",
    "from qiskit import QuantumCircuit, QuantumRegister, ClassicalRegister\n",
    "from qiskit.visualization import *\n",
    "import ipywidgets as widgets\n",
    "from qiskit_aer import Aer\n",
    "from qiskit_ibm_runtime import  Sampler\n",
    " \n",
    "service = QiskitRuntimeService(channel=\"ibm_quantum\", token=\"ADD YOUR TOKEN FOR IBM HERE\")\n",
    " "
   ]
  },
  {
   "cell_type": "markdown",
   "metadata": {},
   "source": [
    "Create Quantum circuit"
   ]
  },
  {
   "cell_type": "code",
   "execution_count": null,
   "metadata": {},
   "outputs": [],
   "source": [
    "def createQC():\n",
    "    # Initial Circuit\n",
    "    circuit_p = QuantumRegister(1, 'circuit')\n",
    "    measure_p = ClassicalRegister(1, 'result')\n",
    "    qc_p = QuantumCircuit(circuit_p, measure_p)\n",
    "    return qc_p,circuit_p,measure_p\n",
    "    "
   ]
  },
  {
   "cell_type": "markdown",
   "metadata": {},
   "source": [
    "Setup the game and add the Hadamard gate - which puts the qubit into a superposition"
   ]
  },
  {
   "cell_type": "code",
   "execution_count": null,
   "metadata": {},
   "outputs": [],
   "source": [
    "# Layout\n",
    "button_p = widgets.Button(\n",
    "    description='Play')\n",
    "num_shots = widgets.IntSlider(\n",
    "    disabled=False,\n",
    "    min=1\n",
    ")\n",
    "out_p = widgets.Output()\n",
    "def on_button_clicked(b):\n",
    "    with out_p:\n",
    "        \n",
    "        # Initial Circuit with Hadamard (h) gate\n",
    "        qc_p,circuit_p,measure_p= createQC()\n",
    "        qc_p.h(circuit_p[0])\n",
    "        qc_p.draw(\"mpl\")    \n",
    "        # Measure  \n",
    "        qc_p.measure(circuit_p, measure_p)\n",
    "        \n",
    "        #Run the job on the IBM Quantum simulator\n",
    "        backend = service.backend(\"ibmq_qasm_simulator\")\n",
    "        job_p = Sampler(backend).run(qc_p, shots=num_shots.value)\n",
    "        print(f\"job id: {job_p.job_id()}\")\n",
    "        res_p = job_p.result()\n",
    "        print(res_p)\n",
    "\n",
    "        # Result\n",
    "        dists = res_p.quasi_dists[0]\n",
    "        if len(dists) == 1 and list(dists.keys())[0] == 0:\n",
    "            print(\"You Lose to Quantum. Quantum Computer Wins\")\n",
    "        if len(dists) == 1 and list(dists.keys())[0]== 1:\n",
    "            print(\"You Win against Quantum Computer\")\n",
    "        if len(dists) == 2:\n",
    "            if dists[0] > dists[1]:\n",
    "                print(\"Quantum wins more than you\")\n",
    "            elif dists[0] == dists[1]:\n",
    "                print(\"Draw\")\n",
    "            else:\n",
    "                print(\"You win more than Quantum\")\n",
    "\n",
    "\n",
    "\n",
    "button_p.on_click(on_button_clicked)\n",
    "widgets.VBox([num_shots, button_p, out_p])"
   ]
  },
  {
   "cell_type": "markdown",
   "metadata": {},
   "source": [
    "Draw the circuit"
   ]
  },
  {
   "cell_type": "code",
   "execution_count": null,
   "metadata": {},
   "outputs": [],
   "source": [
    "\n",
    "circuit_p = QuantumRegister(1, 'circuit')\n",
    "measure_p = ClassicalRegister(1, 'result')\n",
    "qc_p = QuantumCircuit(circuit_p, measure_p)\n",
    "\n",
    "qc_p.h(circuit_p[0])\n",
    "qc_p.measure(circuit_p, measure_p)\n",
    "\n",
    "qc_p.draw(\"mpl\")"
   ]
  }
 ],
 "metadata": {
  "kernelspec": {
   "display_name": "venv",
   "language": "python",
   "name": "python3"
  },
  "language_info": {
   "codemirror_mode": {
    "name": "ipython",
    "version": 3
   },
   "file_extension": ".py",
   "mimetype": "text/x-python",
   "name": "python",
   "nbconvert_exporter": "python",
   "pygments_lexer": "ipython3",
   "version": "3.12.2"
  }
 },
 "nbformat": 4,
 "nbformat_minor": 2
}
