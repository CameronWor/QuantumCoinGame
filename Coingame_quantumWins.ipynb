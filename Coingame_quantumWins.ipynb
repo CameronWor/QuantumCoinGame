{
 "cells": [
  {
   "cell_type": "code",
   "execution_count": null,
   "metadata": {},
   "outputs": [],
   "source": [
    "from qiskit_ibm_runtime import QiskitRuntimeService\n",
    "from qiskit import QuantumCircuit, QuantumRegister, ClassicalRegister\n",
    "from qiskit.visualization import *\n",
    "import ipywidgets as widgets\n",
    "from qiskit_aer import Aer\n",
    "from qiskit_ibm_runtime import  Sampler\n",
    " \n",
    "service = QiskitRuntimeService(channel=\"ibm_quantum\", token=\"ADD YOUR TOKEN FOR IBM HERE\")\n",
    " "
   ]
  },
  {
   "cell_type": "markdown",
   "metadata": {},
   "source": [
    "Create Quantum circuit"
   ]
  },
  {
   "cell_type": "code",
   "execution_count": null,
   "metadata": {},
   "outputs": [],
   "source": [
    "def createQC():\n",
    "    # Initial Circuit\n",
    "    circuit_p = QuantumRegister(1, 'circuit')\n",
    "    measure_p = ClassicalRegister(1, 'result')\n",
    "    qc_p = QuantumCircuit(circuit_p, measure_p)\n",
    "    return qc_p,circuit_p,measure_p\n",
    "    "
   ]
  },
  {
   "cell_type": "code",
   "execution_count": null,
   "metadata": {},
   "outputs": [],
   "source": [
    "# Layout\n",
    "button_p = widgets.Button(\n",
    "    description='Play')\n",
    "gate_p = widgets.Dropdown(\n",
    "    options=[('Identity', 'i'), ('Bit Flip', 'x')],\n",
    "    description='Choice: ',\n",
    "    disabled=False,\n",
    ")\n",
    "out_p = widgets.Output()\n",
    "def on_button_clicked(b):\n",
    "    with out_p:\n",
    "        \n",
    "        # Initial Circuit\n",
    "        qc_p,circuit_p,measure_p= createQC()\n",
    "        # Turn 1\n",
    "        qc_p.h(circuit_p[0])\n",
    "        qc_p.draw(\"mpl\")\n",
    "        # Turn 2\n",
    "        if gate_p.value == 'i':\n",
    "            qc_p.id(circuit_p[0])\n",
    "        if gate_p.value == 'x':\n",
    "            qc_p.x(circuit_p[0])\n",
    "        qc_p.draw(\"mpl\")    \n",
    "        # Turn 3\n",
    "        qc_p.h(circuit_p[0])\n",
    "        qc_p.draw(\"mpl\")\n",
    "        # Measure  \n",
    "        qc_p.measure(circuit_p, measure_p)\n",
    "        \n",
    "        # You'll need to specify the credentials when initializing QiskitRuntimeService, if they were not previously saved.\n",
    "\n",
    "        backend = service.backend(\"ibmq_qasm_simulator\")\n",
    "        job_p = Sampler(backend).run(qc_p)\n",
    "        print(f\"job id: {job_p.job_id()}\")\n",
    "        res_p = job_p.result()\n",
    "        print(res_p)\n",
    "\n",
    "\n",
    "        # # QASM\n",
    "        # backend_p = Aer.get_backend('aer_simulator')\n",
    "        # job_p = execute(qc_p, backend_p, shots=8192)\n",
    "        # res_p = job_p.result().get_counts()\n",
    "        \n",
    "        # Result\n",
    "        dists = res_p.quasi_dists[0]\n",
    "        print(dists)\n",
    "        if len(dists) == 1 and list(dists.keys())[0] == 0:\n",
    "            print(\"You Lose to Quantum. Quantum Computer Wins\")\n",
    "        if len(dists) == 1 and list(dists.keys())[0] == 1:\n",
    "            print(\"You Win against Quantum Computer\")\n",
    "        if len(dists) == 2:\n",
    "            print(\"Either Quantum or You Wins\")\n",
    "\n",
    "button_p.on_click(on_button_clicked)\n",
    "widgets.VBox([gate_p, button_p, out_p])"
   ]
  },
  {
   "cell_type": "code",
   "execution_count": null,
   "metadata": {},
   "outputs": [],
   "source": [
    "# Initial Circuit\n",
    "circuit_p = QuantumRegister(1, 'circuit')\n",
    "measure_p = ClassicalRegister(1, 'result')\n",
    "qc_p = QuantumCircuit(circuit_p, measure_p)\n",
    "\n",
    "# Turn 1\n",
    "qc_p.h(circuit_p[0])\n",
    "\n",
    "# Turn 2\n",
    "if gate_p.value == 'i':\n",
    "    qc_p.id(circuit_p[0])\n",
    "if gate_p.value == 'x':\n",
    "    qc_p.x(circuit_p[0])\n",
    "   \n",
    "# Turn 3\n",
    "qc_p.h(circuit_p[0])\n",
    "# Measure  \n",
    "qc_p.measure(circuit_p, measure_p)\n",
    "qc_p.draw(\"mpl\")"
   ]
  }
 ],
 "metadata": {
  "kernelspec": {
   "display_name": "venv",
   "language": "python",
   "name": "python3"
  },
  "language_info": {
   "codemirror_mode": {
    "name": "ipython",
    "version": 3
   },
   "file_extension": ".py",
   "mimetype": "text/x-python",
   "name": "python",
   "nbconvert_exporter": "python",
   "pygments_lexer": "ipython3",
   "version": "3.12.2"
  }
 },
 "nbformat": 4,
 "nbformat_minor": 2
}
